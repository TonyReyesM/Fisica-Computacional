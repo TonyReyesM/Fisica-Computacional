{
  "nbformat": 4,
  "nbformat_minor": 0,
  "metadata": {
    "colab": {
      "name": "Actividad3.ipynb",
      "provenance": [],
      "collapsed_sections": []
    },
    "kernelspec": {
      "name": "python3",
      "display_name": "Python 3"
    }
  },
  "cells": [
    {
      "cell_type": "markdown",
      "metadata": {
        "id": "ZcR5PwmoEfja"
      },
      "source": [
        "# **Actividad 3**"
      ]
    },
    {
      "cell_type": "markdown",
      "metadata": {
        "id": "3lsc5q-tEyI_"
      },
      "source": [
        "**Paso 1:** Importar el archivo de datos"
      ]
    },
    {
      "cell_type": "code",
      "metadata": {
        "id": "uWEf-OlrEjNz"
      },
      "source": [
        "#Importamos bibliotecas\r\n",
        "import numpy as np\r\n",
        "import matplotlib.pyplot as plt\r\n",
        "import pandas as pd"
      ],
      "execution_count": null,
      "outputs": []
    },
    {
      "cell_type": "code",
      "metadata": {
        "id": "Fam17Z1sEvGV"
      },
      "source": [
        "#Leemos el archivo de datos de la estación climatológica para crear un dataframe con la biblioteca Pandas\r\n",
        "url = \"https://raw.githubusercontent.com/TonyReyesM/Fisica-Computacional/master/Actividad%201/Datos%20diarios%203074.txt\"\r\n",
        "df = pd.read_csv(url)"
      ],
      "execution_count": null,
      "outputs": []
    },
    {
      "cell_type": "code",
      "metadata": {
        "colab": {
          "base_uri": "https://localhost:8080/",
          "height": 407
        },
        "id": "arBog-6XDl9H",
        "outputId": "4de52f27-6260-48e7-8e99-0efeb353b2f2"
      },
      "source": [
        "df"
      ],
      "execution_count": null,
      "outputs": [
        {
          "output_type": "execute_result",
          "data": {
            "text/html": [
              "<div>\n",
              "<style scoped>\n",
              "    .dataframe tbody tr th:only-of-type {\n",
              "        vertical-align: middle;\n",
              "    }\n",
              "\n",
              "    .dataframe tbody tr th {\n",
              "        vertical-align: top;\n",
              "    }\n",
              "\n",
              "    .dataframe thead th {\n",
              "        text-align: right;\n",
              "    }\n",
              "</style>\n",
              "<table border=\"1\" class=\"dataframe\">\n",
              "  <thead>\n",
              "    <tr style=\"text-align: right;\">\n",
              "      <th></th>\n",
              "      <th>CNA-SMN-CG-GMC-SMAA-CLIMATOLOGIA</th>\n",
              "    </tr>\n",
              "  </thead>\n",
              "  <tbody>\n",
              "    <tr>\n",
              "      <th>0</th>\n",
              "      <td>BASE DE DATOS CLIMATOLOGICA</td>\n",
              "    </tr>\n",
              "    <tr>\n",
              "      <th>1</th>\n",
              "      <td>DATOS DISPONIBLES EN LA BASE DE DATOS A MARZO ...</td>\n",
              "    </tr>\n",
              "    <tr>\n",
              "      <th>2</th>\n",
              "      <td>ESTACION  : 3074</td>\n",
              "    </tr>\n",
              "    <tr>\n",
              "      <th>3</th>\n",
              "      <td>NOMBRE    : LA PAZ (DGE)</td>\n",
              "    </tr>\n",
              "    <tr>\n",
              "      <th>4</th>\n",
              "      <td>ESTADO    : BAJA CALIFORNIA SUR</td>\n",
              "    </tr>\n",
              "    <tr>\n",
              "      <th>...</th>\n",
              "      <td>...</td>\n",
              "    </tr>\n",
              "    <tr>\n",
              "      <th>27186</th>\n",
              "      <td>28/12/2017  0      3.4    27.5   16</td>\n",
              "    </tr>\n",
              "    <tr>\n",
              "      <th>27187</th>\n",
              "      <td>29/12/2017  0      3      26.8   17.4</td>\n",
              "    </tr>\n",
              "    <tr>\n",
              "      <th>27188</th>\n",
              "      <td>30/12/2017  0      3      26     16.6</td>\n",
              "    </tr>\n",
              "    <tr>\n",
              "      <th>27189</th>\n",
              "      <td>31/12/2017  0      0.1    29.1   17</td>\n",
              "    </tr>\n",
              "    <tr>\n",
              "      <th>27190</th>\n",
              "      <td>--------------------------------------</td>\n",
              "    </tr>\n",
              "  </tbody>\n",
              "</table>\n",
              "<p>27191 rows × 1 columns</p>\n",
              "</div>"
            ],
            "text/plain": [
              "                        CNA-SMN-CG-GMC-SMAA-CLIMATOLOGIA\n",
              "0                            BASE DE DATOS CLIMATOLOGICA\n",
              "1      DATOS DISPONIBLES EN LA BASE DE DATOS A MARZO ...\n",
              "2                                       ESTACION  : 3074\n",
              "3                               NOMBRE    : LA PAZ (DGE)\n",
              "4                        ESTADO    : BAJA CALIFORNIA SUR\n",
              "...                                                  ...\n",
              "27186               28/12/2017  0      3.4    27.5   16 \n",
              "27187             29/12/2017  0      3      26.8   17.4 \n",
              "27188             30/12/2017  0      3      26     16.6 \n",
              "27189               31/12/2017  0      0.1    29.1   17 \n",
              "27190             --------------------------------------\n",
              "\n",
              "[27191 rows x 1 columns]"
            ]
          },
          "metadata": {
            "tags": []
          },
          "execution_count": 35
        }
      ]
    },
    {
      "cell_type": "markdown",
      "metadata": {
        "id": "SpCQwY4lEM4u"
      },
      "source": [
        "**Paso 2:** Crear un dataframe que no contenga la información que no se necesita para el análisis de datos"
      ]
    },
    {
      "cell_type": "code",
      "metadata": {
        "colab": {
          "base_uri": "https://localhost:8080/",
          "height": 407
        },
        "id": "zbDHOmBTJwl7",
        "outputId": "d57a60a1-37d7-480b-8bc7-8a813dfbd02c"
      },
      "source": [
        "#Los datos comienzan en el renglon 19.\r\n",
        "#El último renglón del archivo no tiene datos\r\n",
        "#Los nombres de las 5 columnas son \"Fecha\", \"Precip (mm)\", \"Evap (mm)\", \"Tmax (ºC)\", \"Tmin (ºC)\"\r\n",
        "#Creamos una lista de los nombres de las 5 columnas\r\n",
        "columnas = ['Fecha','Precip(mm)','Evap(mm)','Tmax(ºC)','Tmin(ºC)']\r\n",
        "#Creamos el nuevo dataframe sin los primeros 15 renglones ni el último renglón\r\n",
        "clima = pd.read_csv(url, names=columnas, encoding='cp1251', sep='\\s+', header=None, skiprows=19, skipfooter=1, engine='python')\r\n",
        "#Visualizamos el dataframe creado\r\n",
        "clima"
      ],
      "execution_count": null,
      "outputs": [
        {
          "output_type": "execute_result",
          "data": {
            "text/html": [
              "<div>\n",
              "<style scoped>\n",
              "    .dataframe tbody tr th:only-of-type {\n",
              "        vertical-align: middle;\n",
              "    }\n",
              "\n",
              "    .dataframe tbody tr th {\n",
              "        vertical-align: top;\n",
              "    }\n",
              "\n",
              "    .dataframe thead th {\n",
              "        text-align: right;\n",
              "    }\n",
              "</style>\n",
              "<table border=\"1\" class=\"dataframe\">\n",
              "  <thead>\n",
              "    <tr style=\"text-align: right;\">\n",
              "      <th></th>\n",
              "      <th>Fecha</th>\n",
              "      <th>Precip(mm)</th>\n",
              "      <th>Evap(mm)</th>\n",
              "      <th>Tmax(ºC)</th>\n",
              "      <th>Tmin(ºC)</th>\n",
              "    </tr>\n",
              "  </thead>\n",
              "  <tbody>\n",
              "    <tr>\n",
              "      <th>0</th>\n",
              "      <td>01/01/1940</td>\n",
              "      <td>0</td>\n",
              "      <td>4.2</td>\n",
              "      <td>23</td>\n",
              "      <td>16</td>\n",
              "    </tr>\n",
              "    <tr>\n",
              "      <th>1</th>\n",
              "      <td>02/01/1940</td>\n",
              "      <td>0</td>\n",
              "      <td>5.1</td>\n",
              "      <td>23</td>\n",
              "      <td>16</td>\n",
              "    </tr>\n",
              "    <tr>\n",
              "      <th>2</th>\n",
              "      <td>03/01/1940</td>\n",
              "      <td>0</td>\n",
              "      <td>4.6</td>\n",
              "      <td>24.2</td>\n",
              "      <td>16.5</td>\n",
              "    </tr>\n",
              "    <tr>\n",
              "      <th>3</th>\n",
              "      <td>04/01/1940</td>\n",
              "      <td>0</td>\n",
              "      <td>4.2</td>\n",
              "      <td>23.6</td>\n",
              "      <td>16.4</td>\n",
              "    </tr>\n",
              "    <tr>\n",
              "      <th>4</th>\n",
              "      <td>05/01/1940</td>\n",
              "      <td>0</td>\n",
              "      <td>5.7</td>\n",
              "      <td>23.2</td>\n",
              "      <td>18.2</td>\n",
              "    </tr>\n",
              "    <tr>\n",
              "      <th>...</th>\n",
              "      <td>...</td>\n",
              "      <td>...</td>\n",
              "      <td>...</td>\n",
              "      <td>...</td>\n",
              "      <td>...</td>\n",
              "    </tr>\n",
              "    <tr>\n",
              "      <th>27170</th>\n",
              "      <td>27/12/2017</td>\n",
              "      <td>0</td>\n",
              "      <td>4.6</td>\n",
              "      <td>29.2</td>\n",
              "      <td>15</td>\n",
              "    </tr>\n",
              "    <tr>\n",
              "      <th>27171</th>\n",
              "      <td>28/12/2017</td>\n",
              "      <td>0</td>\n",
              "      <td>3.4</td>\n",
              "      <td>27.5</td>\n",
              "      <td>16</td>\n",
              "    </tr>\n",
              "    <tr>\n",
              "      <th>27172</th>\n",
              "      <td>29/12/2017</td>\n",
              "      <td>0</td>\n",
              "      <td>3</td>\n",
              "      <td>26.8</td>\n",
              "      <td>17.4</td>\n",
              "    </tr>\n",
              "    <tr>\n",
              "      <th>27173</th>\n",
              "      <td>30/12/2017</td>\n",
              "      <td>0</td>\n",
              "      <td>3</td>\n",
              "      <td>26</td>\n",
              "      <td>16.6</td>\n",
              "    </tr>\n",
              "    <tr>\n",
              "      <th>27174</th>\n",
              "      <td>31/12/2017</td>\n",
              "      <td>0</td>\n",
              "      <td>0.1</td>\n",
              "      <td>29.1</td>\n",
              "      <td>17</td>\n",
              "    </tr>\n",
              "  </tbody>\n",
              "</table>\n",
              "<p>27175 rows × 5 columns</p>\n",
              "</div>"
            ],
            "text/plain": [
              "            Fecha Precip(mm) Evap(mm) Tmax(ºC) Tmin(ºC)\n",
              "0      01/01/1940          0      4.2       23       16\n",
              "1      02/01/1940          0      5.1       23       16\n",
              "2      03/01/1940          0      4.6     24.2     16.5\n",
              "3      04/01/1940          0      4.2     23.6     16.4\n",
              "4      05/01/1940          0      5.7     23.2     18.2\n",
              "...           ...        ...      ...      ...      ...\n",
              "27170  27/12/2017          0      4.6     29.2       15\n",
              "27171  28/12/2017          0      3.4     27.5       16\n",
              "27172  29/12/2017          0        3     26.8     17.4\n",
              "27173  30/12/2017          0        3       26     16.6\n",
              "27174  31/12/2017          0      0.1     29.1       17\n",
              "\n",
              "[27175 rows x 5 columns]"
            ]
          },
          "metadata": {
            "tags": []
          },
          "execution_count": 36
        }
      ]
    },
    {
      "cell_type": "markdown",
      "metadata": {
        "id": "hVnnMZJREPdl"
      },
      "source": [
        "**Paso 3:** Análisis de los contenidos del archivo de datos y cambio a valores numéricos"
      ]
    },
    {
      "cell_type": "code",
      "metadata": {
        "colab": {
          "base_uri": "https://localhost:8080/"
        },
        "id": "HGQ1XcMSSoMt",
        "outputId": "cbce593b-2dc5-4f77-e24e-ae562fae0f4e"
      },
      "source": [
        "#Exploramos el principio y el final del dataframe\r\n",
        "print(clima.head(10))\r\n",
        "print(clima.tail(10))"
      ],
      "execution_count": null,
      "outputs": [
        {
          "output_type": "stream",
          "text": [
            "        Fecha Precip(mm) Evap(mm) Tmax(ºC) Tmin(ºC)\n",
            "0  01/01/1940          0      4.2       23       16\n",
            "1  02/01/1940          0      5.1       23       16\n",
            "2  03/01/1940          0      4.6     24.2     16.5\n",
            "3  04/01/1940          0      4.2     23.6     16.4\n",
            "4  05/01/1940          0      5.7     23.2     18.2\n",
            "5  06/01/1940          0      4.7     24.8       18\n",
            "6  07/01/1940          0      6.2       21       16\n",
            "7  08/01/1940          0      4.3       23     15.4\n",
            "8  09/01/1940          0      5.3       23       15\n",
            "9  10/01/1940          0      5.2     22.6     15.2\n",
            "            Fecha Precip(mm) Evap(mm) Tmax(ºC) Tmin(ºC)\n",
            "27165  22/12/2017          0      2.1     25.9     17.4\n",
            "27166  23/12/2017          0      3.3     21.5     17.4\n",
            "27167  24/12/2017          0      4.7     22.5       18\n",
            "27168  25/12/2017          0      3.5     25.8     16.4\n",
            "27169  26/12/2017          0      2.6     26.4     14.6\n",
            "27170  27/12/2017          0      4.6     29.2       15\n",
            "27171  28/12/2017          0      3.4     27.5       16\n",
            "27172  29/12/2017          0        3     26.8     17.4\n",
            "27173  30/12/2017          0        3       26     16.6\n",
            "27174  31/12/2017          0      0.1     29.1       17\n"
          ],
          "name": "stdout"
        }
      ]
    },
    {
      "cell_type": "code",
      "metadata": {
        "colab": {
          "base_uri": "https://localhost:8080/"
        },
        "id": "hV8E1EfpS1-0",
        "outputId": "4a9a83b1-2407-4669-dcb2-3d8665d073bc"
      },
      "source": [
        "#Analizamos las dimensiones del dataframe y vemos los renglones y las columnas respectivamente.\r\n",
        "clima.shape"
      ],
      "execution_count": null,
      "outputs": [
        {
          "output_type": "execute_result",
          "data": {
            "text/plain": [
              "(27175, 5)"
            ]
          },
          "metadata": {
            "tags": []
          },
          "execution_count": 38
        }
      ]
    },
    {
      "cell_type": "code",
      "metadata": {
        "colab": {
          "base_uri": "https://localhost:8080/"
        },
        "id": "rzqYKT_JUTWz",
        "outputId": "d03890be-ec45-4870-dc3b-6f7c4626a872"
      },
      "source": [
        "#Revisamos la información del dataframe\r\n",
        "clima.info()"
      ],
      "execution_count": null,
      "outputs": [
        {
          "output_type": "stream",
          "text": [
            "<class 'pandas.core.frame.DataFrame'>\n",
            "RangeIndex: 27175 entries, 0 to 27174\n",
            "Data columns (total 5 columns):\n",
            " #   Column      Non-Null Count  Dtype \n",
            "---  ------      --------------  ----- \n",
            " 0   Fecha       27175 non-null  object\n",
            " 1   Precip(mm)  27175 non-null  object\n",
            " 2   Evap(mm)    27175 non-null  object\n",
            " 3   Tmax(ºC)    27175 non-null  object\n",
            " 4   Tmin(ºC)    27175 non-null  object\n",
            "dtypes: object(5)\n",
            "memory usage: 1.0+ MB\n"
          ],
          "name": "stdout"
        }
      ]
    },
    {
      "cell_type": "code",
      "metadata": {
        "colab": {
          "base_uri": "https://localhost:8080/",
          "height": 198
        },
        "id": "8yJpq6QgUunG",
        "outputId": "f760b2ad-402c-4a74-cafa-bd3744ef2001"
      },
      "source": [
        "#Creamos una copia del dataframe para trabajar con ella y no modificar el original\r\n",
        "clima_cp0 = clima.copy()\r\n",
        "clima_cp0.head()"
      ],
      "execution_count": null,
      "outputs": [
        {
          "output_type": "execute_result",
          "data": {
            "text/html": [
              "<div>\n",
              "<style scoped>\n",
              "    .dataframe tbody tr th:only-of-type {\n",
              "        vertical-align: middle;\n",
              "    }\n",
              "\n",
              "    .dataframe tbody tr th {\n",
              "        vertical-align: top;\n",
              "    }\n",
              "\n",
              "    .dataframe thead th {\n",
              "        text-align: right;\n",
              "    }\n",
              "</style>\n",
              "<table border=\"1\" class=\"dataframe\">\n",
              "  <thead>\n",
              "    <tr style=\"text-align: right;\">\n",
              "      <th></th>\n",
              "      <th>Fecha</th>\n",
              "      <th>Precip(mm)</th>\n",
              "      <th>Evap(mm)</th>\n",
              "      <th>Tmax(ºC)</th>\n",
              "      <th>Tmin(ºC)</th>\n",
              "    </tr>\n",
              "  </thead>\n",
              "  <tbody>\n",
              "    <tr>\n",
              "      <th>0</th>\n",
              "      <td>01/01/1940</td>\n",
              "      <td>0</td>\n",
              "      <td>4.2</td>\n",
              "      <td>23</td>\n",
              "      <td>16</td>\n",
              "    </tr>\n",
              "    <tr>\n",
              "      <th>1</th>\n",
              "      <td>02/01/1940</td>\n",
              "      <td>0</td>\n",
              "      <td>5.1</td>\n",
              "      <td>23</td>\n",
              "      <td>16</td>\n",
              "    </tr>\n",
              "    <tr>\n",
              "      <th>2</th>\n",
              "      <td>03/01/1940</td>\n",
              "      <td>0</td>\n",
              "      <td>4.6</td>\n",
              "      <td>24.2</td>\n",
              "      <td>16.5</td>\n",
              "    </tr>\n",
              "    <tr>\n",
              "      <th>3</th>\n",
              "      <td>04/01/1940</td>\n",
              "      <td>0</td>\n",
              "      <td>4.2</td>\n",
              "      <td>23.6</td>\n",
              "      <td>16.4</td>\n",
              "    </tr>\n",
              "    <tr>\n",
              "      <th>4</th>\n",
              "      <td>05/01/1940</td>\n",
              "      <td>0</td>\n",
              "      <td>5.7</td>\n",
              "      <td>23.2</td>\n",
              "      <td>18.2</td>\n",
              "    </tr>\n",
              "  </tbody>\n",
              "</table>\n",
              "</div>"
            ],
            "text/plain": [
              "        Fecha Precip(mm) Evap(mm) Tmax(ºC) Tmin(ºC)\n",
              "0  01/01/1940          0      4.2       23       16\n",
              "1  02/01/1940          0      5.1       23       16\n",
              "2  03/01/1940          0      4.6     24.2     16.5\n",
              "3  04/01/1940          0      4.2     23.6     16.4\n",
              "4  05/01/1940          0      5.7     23.2     18.2"
            ]
          },
          "metadata": {
            "tags": []
          },
          "execution_count": 40
        }
      ]
    },
    {
      "cell_type": "code",
      "metadata": {
        "id": "0bgVNTqKWgtc"
      },
      "source": [
        "#Remplazamos con un espacio en blanco los valores donde esté escrito \"Nulo\"\r\n",
        "clima_cp1 = clima_cp0.replace(to_replace = 'Nulo',value = '', regex = True)"
      ],
      "execution_count": null,
      "outputs": []
    },
    {
      "cell_type": "code",
      "metadata": {
        "colab": {
          "base_uri": "https://localhost:8080/",
          "height": 198
        },
        "id": "KhKp2Gg6XqpX",
        "outputId": "da05b54e-c65e-4882-ffc5-67f558ca9ac6"
      },
      "source": [
        "#Convertimos a datos numéticos la información de las columnas de precipitación, evaporación, temperatura máxima, y temperatura mínina\r\n",
        "#Utilizamos una iteración para cambiar los datos de cada columna de una por una\r\n",
        "for i in columnas[1:]:\r\n",
        "  clima_cp1[i] = pd.to_numeric(clima_cp[i], errors = 'coerce')\r\n",
        "\r\n",
        "#Visualizamos los primeros datos del dataframe para verificar que se realizaron los cambios\r\n",
        "clima_cp1.head()"
      ],
      "execution_count": null,
      "outputs": [
        {
          "output_type": "execute_result",
          "data": {
            "text/html": [
              "<div>\n",
              "<style scoped>\n",
              "    .dataframe tbody tr th:only-of-type {\n",
              "        vertical-align: middle;\n",
              "    }\n",
              "\n",
              "    .dataframe tbody tr th {\n",
              "        vertical-align: top;\n",
              "    }\n",
              "\n",
              "    .dataframe thead th {\n",
              "        text-align: right;\n",
              "    }\n",
              "</style>\n",
              "<table border=\"1\" class=\"dataframe\">\n",
              "  <thead>\n",
              "    <tr style=\"text-align: right;\">\n",
              "      <th></th>\n",
              "      <th>Fecha</th>\n",
              "      <th>Precip(mm)</th>\n",
              "      <th>Evap(mm)</th>\n",
              "      <th>Tmax(ºC)</th>\n",
              "      <th>Tmin(ºC)</th>\n",
              "    </tr>\n",
              "  </thead>\n",
              "  <tbody>\n",
              "    <tr>\n",
              "      <th>0</th>\n",
              "      <td>01/01/1940</td>\n",
              "      <td>0.0</td>\n",
              "      <td>4.2</td>\n",
              "      <td>23.0</td>\n",
              "      <td>16.0</td>\n",
              "    </tr>\n",
              "    <tr>\n",
              "      <th>1</th>\n",
              "      <td>02/01/1940</td>\n",
              "      <td>0.0</td>\n",
              "      <td>5.1</td>\n",
              "      <td>23.0</td>\n",
              "      <td>16.0</td>\n",
              "    </tr>\n",
              "    <tr>\n",
              "      <th>2</th>\n",
              "      <td>03/01/1940</td>\n",
              "      <td>0.0</td>\n",
              "      <td>4.6</td>\n",
              "      <td>24.2</td>\n",
              "      <td>16.5</td>\n",
              "    </tr>\n",
              "    <tr>\n",
              "      <th>3</th>\n",
              "      <td>04/01/1940</td>\n",
              "      <td>0.0</td>\n",
              "      <td>4.2</td>\n",
              "      <td>23.6</td>\n",
              "      <td>16.4</td>\n",
              "    </tr>\n",
              "    <tr>\n",
              "      <th>4</th>\n",
              "      <td>05/01/1940</td>\n",
              "      <td>0.0</td>\n",
              "      <td>5.7</td>\n",
              "      <td>23.2</td>\n",
              "      <td>18.2</td>\n",
              "    </tr>\n",
              "  </tbody>\n",
              "</table>\n",
              "</div>"
            ],
            "text/plain": [
              "        Fecha  Precip(mm)  Evap(mm)  Tmax(ºC)  Tmin(ºC)\n",
              "0  01/01/1940         0.0       4.2      23.0      16.0\n",
              "1  02/01/1940         0.0       5.1      23.0      16.0\n",
              "2  03/01/1940         0.0       4.6      24.2      16.5\n",
              "3  04/01/1940         0.0       4.2      23.6      16.4\n",
              "4  05/01/1940         0.0       5.7      23.2      18.2"
            ]
          },
          "metadata": {
            "tags": []
          },
          "execution_count": 45
        }
      ]
    },
    {
      "cell_type": "code",
      "metadata": {
        "colab": {
          "base_uri": "https://localhost:8080/"
        },
        "id": "6X-WvnHNb8om",
        "outputId": "fd5a1b9d-4e4e-407a-f79f-fc1a0d8b2703"
      },
      "source": [
        "#Revisamos la información que hay en el dataframe nuevo\r\n",
        "clima_cp1.info()"
      ],
      "execution_count": null,
      "outputs": [
        {
          "output_type": "stream",
          "text": [
            "<class 'pandas.core.frame.DataFrame'>\n",
            "RangeIndex: 27175 entries, 0 to 27174\n",
            "Data columns (total 5 columns):\n",
            " #   Column      Non-Null Count  Dtype  \n",
            "---  ------      --------------  -----  \n",
            " 0   Fecha       27175 non-null  object \n",
            " 1   Precip(mm)  26956 non-null  float64\n",
            " 2   Evap(mm)    24242 non-null  float64\n",
            " 3   Tmax(ºC)    27165 non-null  float64\n",
            " 4   Tmin(ºC)    27166 non-null  float64\n",
            "dtypes: float64(4), object(1)\n",
            "memory usage: 1.0+ MB\n"
          ],
          "name": "stdout"
        }
      ]
    },
    {
      "cell_type": "code",
      "metadata": {
        "colab": {
          "base_uri": "https://localhost:8080/"
        },
        "id": "Aw_a9q5Edz6g",
        "outputId": "4c21cf4a-9840-4c99-d508-00cb6c1c24da"
      },
      "source": [
        "#Revisamos la cantidad de datos faltantes que hay en el archivo\r\n",
        "clima_cp1.isnull().sum()"
      ],
      "execution_count": null,
      "outputs": [
        {
          "output_type": "execute_result",
          "data": {
            "text/plain": [
              "Fecha            0\n",
              "Precip(mm)     219\n",
              "Evap(mm)      2933\n",
              "Tmax(ºC)        10\n",
              "Tmin(ºC)         9\n",
              "dtype: int64"
            ]
          },
          "metadata": {
            "tags": []
          },
          "execution_count": 47
        }
      ]
    },
    {
      "cell_type": "code",
      "metadata": {
        "colab": {
          "base_uri": "https://localhost:8080/"
        },
        "id": "uVb7hMqZe8Nd",
        "outputId": "1b2375ef-2cd6-4cd6-dce4-3a3c3c290102"
      },
      "source": [
        "#Revisamos el principio y final del dataframe\r\n",
        "print(clima_cp1.head())\r\n",
        "print(clima_cp1.tail())"
      ],
      "execution_count": null,
      "outputs": [
        {
          "output_type": "stream",
          "text": [
            "        Fecha  Precip(mm)  Evap(mm)  Tmax(ºC)  Tmin(ºC)\n",
            "0  01/01/1940         0.0       4.2      23.0      16.0\n",
            "1  02/01/1940         0.0       5.1      23.0      16.0\n",
            "2  03/01/1940         0.0       4.6      24.2      16.5\n",
            "3  04/01/1940         0.0       4.2      23.6      16.4\n",
            "4  05/01/1940         0.0       5.7      23.2      18.2\n",
            "            Fecha  Precip(mm)  Evap(mm)  Tmax(ºC)  Tmin(ºC)\n",
            "27170  27/12/2017         0.0       4.6      29.2      15.0\n",
            "27171  28/12/2017         0.0       3.4      27.5      16.0\n",
            "27172  29/12/2017         0.0       3.0      26.8      17.4\n",
            "27173  30/12/2017         0.0       3.0      26.0      16.6\n",
            "27174  31/12/2017         0.0       0.1      29.1      17.0\n"
          ],
          "name": "stdout"
        }
      ]
    },
    {
      "cell_type": "code",
      "metadata": {
        "colab": {
          "base_uri": "https://localhost:8080/",
          "height": 288
        },
        "id": "kRaMvdD1fOtX",
        "outputId": "195bd8df-b0a9-41a9-9921-f4933941d50f"
      },
      "source": [
        "#Hacemos un análisis estadístico con 3 cifras significativas del dataframe para después interpretarlo\r\n",
        "clima_cp1.describe().round(3)"
      ],
      "execution_count": null,
      "outputs": [
        {
          "output_type": "execute_result",
          "data": {
            "text/html": [
              "<div>\n",
              "<style scoped>\n",
              "    .dataframe tbody tr th:only-of-type {\n",
              "        vertical-align: middle;\n",
              "    }\n",
              "\n",
              "    .dataframe tbody tr th {\n",
              "        vertical-align: top;\n",
              "    }\n",
              "\n",
              "    .dataframe thead th {\n",
              "        text-align: right;\n",
              "    }\n",
              "</style>\n",
              "<table border=\"1\" class=\"dataframe\">\n",
              "  <thead>\n",
              "    <tr style=\"text-align: right;\">\n",
              "      <th></th>\n",
              "      <th>Precip(mm)</th>\n",
              "      <th>Evap(mm)</th>\n",
              "      <th>Tmax(ºC)</th>\n",
              "      <th>Tmin(ºC)</th>\n",
              "    </tr>\n",
              "  </thead>\n",
              "  <tbody>\n",
              "    <tr>\n",
              "      <th>count</th>\n",
              "      <td>26956.000</td>\n",
              "      <td>24242.000</td>\n",
              "      <td>27165.000</td>\n",
              "      <td>27166.000</td>\n",
              "    </tr>\n",
              "    <tr>\n",
              "      <th>mean</th>\n",
              "      <td>0.474</td>\n",
              "      <td>5.922</td>\n",
              "      <td>30.715</td>\n",
              "      <td>17.367</td>\n",
              "    </tr>\n",
              "    <tr>\n",
              "      <th>std</th>\n",
              "      <td>4.230</td>\n",
              "      <td>2.764</td>\n",
              "      <td>5.503</td>\n",
              "      <td>5.420</td>\n",
              "    </tr>\n",
              "    <tr>\n",
              "      <th>min</th>\n",
              "      <td>0.000</td>\n",
              "      <td>0.100</td>\n",
              "      <td>15.000</td>\n",
              "      <td>2.000</td>\n",
              "    </tr>\n",
              "    <tr>\n",
              "      <th>25%</th>\n",
              "      <td>0.000</td>\n",
              "      <td>4.100</td>\n",
              "      <td>26.000</td>\n",
              "      <td>13.000</td>\n",
              "    </tr>\n",
              "    <tr>\n",
              "      <th>50%</th>\n",
              "      <td>0.000</td>\n",
              "      <td>5.800</td>\n",
              "      <td>31.000</td>\n",
              "      <td>17.000</td>\n",
              "    </tr>\n",
              "    <tr>\n",
              "      <th>75%</th>\n",
              "      <td>0.000</td>\n",
              "      <td>7.800</td>\n",
              "      <td>35.000</td>\n",
              "      <td>22.000</td>\n",
              "    </tr>\n",
              "    <tr>\n",
              "      <th>max</th>\n",
              "      <td>261.000</td>\n",
              "      <td>18.000</td>\n",
              "      <td>44.000</td>\n",
              "      <td>30.400</td>\n",
              "    </tr>\n",
              "  </tbody>\n",
              "</table>\n",
              "</div>"
            ],
            "text/plain": [
              "       Precip(mm)   Evap(mm)   Tmax(ºC)   Tmin(ºC)\n",
              "count   26956.000  24242.000  27165.000  27166.000\n",
              "mean        0.474      5.922     30.715     17.367\n",
              "std         4.230      2.764      5.503      5.420\n",
              "min         0.000      0.100     15.000      2.000\n",
              "25%         0.000      4.100     26.000     13.000\n",
              "50%         0.000      5.800     31.000     17.000\n",
              "75%         0.000      7.800     35.000     22.000\n",
              "max       261.000     18.000     44.000     30.400"
            ]
          },
          "metadata": {
            "tags": []
          },
          "execution_count": 50
        }
      ]
    },
    {
      "cell_type": "markdown",
      "metadata": {
        "id": "NJLCORLHEP73"
      },
      "source": [
        "**Paso 4:** Manejo de variables de fecha y tiempo para la columna de fechas"
      ]
    },
    {
      "cell_type": "code",
      "metadata": {
        "id": "rYfJeOSVhkwY"
      },
      "source": [
        "#Ahora cambiaremos la información de la columna de fechas para cambiarlos a un formato de fecha y tiempo que python reconozca\r\n",
        "#Primero generamos una copia del dataframe por si hay necesidad de utilizarlo de nuevo\r\n",
        "clima_cp2 = clima_cp1.copy()"
      ],
      "execution_count": null,
      "outputs": []
    },
    {
      "cell_type": "code",
      "metadata": {
        "colab": {
          "base_uri": "https://localhost:8080/"
        },
        "id": "Qu2qGQLSiRJ9",
        "outputId": "f015dc65-29d9-4257-ea0d-62ea21dc336a"
      },
      "source": [
        "#Cambiamos los valores de la columna de fechas con el día al principio\r\n",
        "clima_cp2['Fecha'] = pd.to_datetime(clima['Fecha'], dayfirst = True)\r\n",
        "print(clima_cp2.head())"
      ],
      "execution_count": null,
      "outputs": [
        {
          "output_type": "stream",
          "text": [
            "       Fecha  Precip(mm)  Evap(mm)  Tmax(ºC)  Tmin(ºC)\n",
            "0 1940-01-01         0.0       4.2      23.0      16.0\n",
            "1 1940-01-02         0.0       5.1      23.0      16.0\n",
            "2 1940-01-03         0.0       4.6      24.2      16.5\n",
            "3 1940-01-04         0.0       4.2      23.6      16.4\n",
            "4 1940-01-05         0.0       5.7      23.2      18.2\n"
          ],
          "name": "stdout"
        }
      ]
    },
    {
      "cell_type": "code",
      "metadata": {
        "colab": {
          "base_uri": "https://localhost:8080/"
        },
        "id": "xSiDKh9fjQLk",
        "outputId": "d8c8ebb5-d57c-4ab0-b79f-1096527475bb"
      },
      "source": [
        "#Revisamos los tipos de variables que hay en cada columna\r\n",
        "clima_cp2.dtypes"
      ],
      "execution_count": null,
      "outputs": [
        {
          "output_type": "execute_result",
          "data": {
            "text/plain": [
              "Fecha         datetime64[ns]\n",
              "Precip(mm)           float64\n",
              "Evap(mm)             float64\n",
              "Tmax(ºC)             float64\n",
              "Tmin(ºC)             float64\n",
              "dtype: object"
            ]
          },
          "metadata": {
            "tags": []
          },
          "execution_count": 59
        }
      ]
    },
    {
      "cell_type": "code",
      "metadata": {
        "id": "czemHiyRj5kn"
      },
      "source": [
        "#Creamos dos nuevas columnas para el año y el mes\r\n",
        "clima_cp2['Año'] = clima_cp2['Fecha'].dt.year\r\n",
        "clima_cp2['Mes'] = clima_cp2['Fecha'].dt.month"
      ],
      "execution_count": null,
      "outputs": []
    },
    {
      "cell_type": "code",
      "metadata": {
        "colab": {
          "base_uri": "https://localhost:8080/"
        },
        "id": "IXa9GmGjkNu_",
        "outputId": "05788b9b-fd49-4769-93ad-af7be3539909"
      },
      "source": [
        "#Revisamos el dataframe\r\n",
        "print(clima_cp2.head())\r\n",
        "print(clima_cp2.tail())"
      ],
      "execution_count": null,
      "outputs": [
        {
          "output_type": "stream",
          "text": [
            "       Fecha  Precip(mm)  Evap(mm)  Tmax(ºC)  Tmin(ºC)   Año  Mes\n",
            "0 1940-01-01         0.0       4.2      23.0      16.0  1940    1\n",
            "1 1940-01-02         0.0       5.1      23.0      16.0  1940    1\n",
            "2 1940-01-03         0.0       4.6      24.2      16.5  1940    1\n",
            "3 1940-01-04         0.0       4.2      23.6      16.4  1940    1\n",
            "4 1940-01-05         0.0       5.7      23.2      18.2  1940    1\n",
            "           Fecha  Precip(mm)  Evap(mm)  Tmax(ºC)  Tmin(ºC)   Año  Mes\n",
            "27170 2017-12-27         0.0       4.6      29.2      15.0  2017   12\n",
            "27171 2017-12-28         0.0       3.4      27.5      16.0  2017   12\n",
            "27172 2017-12-29         0.0       3.0      26.8      17.4  2017   12\n",
            "27173 2017-12-30         0.0       3.0      26.0      16.6  2017   12\n",
            "27174 2017-12-31         0.0       0.1      29.1      17.0  2017   12\n"
          ],
          "name": "stdout"
        }
      ]
    },
    {
      "cell_type": "code",
      "metadata": {
        "colab": {
          "base_uri": "https://localhost:8080/"
        },
        "id": "3LYzxZ6QkeaF",
        "outputId": "8601c785-3b70-4d4a-940f-c61c72e854c9"
      },
      "source": [
        "#Revisamos la información en las columnas de año y mes y que sean de valores enteros\r\n",
        "clima_cp2.info()"
      ],
      "execution_count": null,
      "outputs": [
        {
          "output_type": "stream",
          "text": [
            "<class 'pandas.core.frame.DataFrame'>\n",
            "RangeIndex: 27175 entries, 0 to 27174\n",
            "Data columns (total 7 columns):\n",
            " #   Column      Non-Null Count  Dtype         \n",
            "---  ------      --------------  -----         \n",
            " 0   Fecha       27175 non-null  datetime64[ns]\n",
            " 1   Precip(mm)  26956 non-null  float64       \n",
            " 2   Evap(mm)    24242 non-null  float64       \n",
            " 3   Tmax(ºC)    27165 non-null  float64       \n",
            " 4   Tmin(ºC)    27166 non-null  float64       \n",
            " 5   Año         27175 non-null  int64         \n",
            " 6   Mes         27175 non-null  int64         \n",
            "dtypes: datetime64[ns](1), float64(4), int64(2)\n",
            "memory usage: 1.5 MB\n"
          ],
          "name": "stdout"
        }
      ]
    }
  ]
}